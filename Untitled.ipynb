{
 "cells": [
  {
   "cell_type": "code",
   "execution_count": 1,
   "id": "df51dc81-f582-45f1-9afb-3bef1b6cf1ab",
   "metadata": {},
   "outputs": [],
   "source": [
    "#pip install pandas openpyxl"
   ]
  },
  {
   "cell_type": "code",
   "execution_count": 2,
   "id": "3292764a-6b12-44c7-b566-d854562bd4cb",
   "metadata": {},
   "outputs": [],
   "source": [
    "import numpy as np \n",
    "import pandas as pd"
   ]
  },
  {
   "cell_type": "code",
   "execution_count": 3,
   "id": "b38ede48-d937-4e24-a3a9-01d0cd97a692",
   "metadata": {},
   "outputs": [],
   "source": [
    "# Reading the Excel file\n",
    "df = pd.read_excel('phone.xlsx')"
   ]
  },
  {
   "cell_type": "code",
   "execution_count": 4,
   "id": "1671dc73-a9c8-4639-994f-a603cf0320f9",
   "metadata": {},
   "outputs": [
    {
     "data": {
      "text/html": [
       "<div>\n",
       "<style scoped>\n",
       "    .dataframe tbody tr th:only-of-type {\n",
       "        vertical-align: middle;\n",
       "    }\n",
       "\n",
       "    .dataframe tbody tr th {\n",
       "        vertical-align: top;\n",
       "    }\n",
       "\n",
       "    .dataframe thead th {\n",
       "        text-align: right;\n",
       "    }\n",
       "</style>\n",
       "<table border=\"1\" class=\"dataframe\">\n",
       "  <thead>\n",
       "    <tr style=\"text-align: right;\">\n",
       "      <th></th>\n",
       "      <th>phone_numbers</th>\n",
       "    </tr>\n",
       "  </thead>\n",
       "  <tbody>\n",
       "    <tr>\n",
       "      <th>0</th>\n",
       "      <td>7609634539</td>\n",
       "    </tr>\n",
       "    <tr>\n",
       "      <th>1</th>\n",
       "      <td>4794662178</td>\n",
       "    </tr>\n",
       "    <tr>\n",
       "      <th>2</th>\n",
       "      <td>6267570026</td>\n",
       "    </tr>\n",
       "    <tr>\n",
       "      <th>3</th>\n",
       "      <td>4252321125</td>\n",
       "    </tr>\n",
       "    <tr>\n",
       "      <th>4</th>\n",
       "      <td>7077408246</td>\n",
       "    </tr>\n",
       "  </tbody>\n",
       "</table>\n",
       "</div>"
      ],
      "text/plain": [
       "   phone_numbers\n",
       "0     7609634539\n",
       "1     4794662178\n",
       "2     6267570026\n",
       "3     4252321125\n",
       "4     7077408246"
      ]
     },
     "execution_count": 4,
     "metadata": {},
     "output_type": "execute_result"
    }
   ],
   "source": [
    "df.head()"
   ]
  },
  {
   "cell_type": "code",
   "execution_count": 5,
   "id": "15e1a635-d8eb-4180-9625-f41be6f10c98",
   "metadata": {},
   "outputs": [
    {
     "data": {
      "text/plain": [
       "(200000, 1)"
      ]
     },
     "execution_count": 5,
     "metadata": {},
     "output_type": "execute_result"
    }
   ],
   "source": [
    "df.shape"
   ]
  },
  {
   "cell_type": "code",
   "execution_count": 6,
   "id": "8243c9d2-7305-41c0-9965-724f3b013d58",
   "metadata": {},
   "outputs": [
    {
     "name": "stdout",
     "output_type": "stream",
     "text": [
      "       phone_numbers             city\n",
      "0         7609634539          Unknown\n",
      "1         4794662178          Unknown\n",
      "2         6267570026          Unknown\n",
      "3         4252321125          Unknown\n",
      "4         7077408246          Unknown\n",
      "...              ...              ...\n",
      "199995    7868724692        Miami, FL\n",
      "199996    3103843629  Los Angeles, CA\n",
      "199997    2066653308      Seattle, WA\n",
      "199998    7609371266          Unknown\n",
      "199999    9042198520          Unknown\n",
      "\n",
      "[200000 rows x 2 columns]\n"
     ]
    }
   ],
   "source": [
    "\n",
    "# Convert phone numbers to strings\n",
    "df['phone_numbers'] = df['phone_numbers'].astype(str)\n",
    "\n",
    "# Mapping of area codes to cities\n",
    "area_code_mapping = {\n",
    "    'Los Angeles, CA': ['213', '323', '661', '310', '424'],\n",
    "    'Chicago, IL': ['773', '312', '872'],\n",
    "    'New York, NY': ['917', '212', '718', '347', '929'],\n",
    "    'Miami, FL': ['305', '786'],\n",
    "    'Detroit, MI': ['313'],\n",
    "    'Dallas/Fort Worth, TX': ['214', '469', '972'],\n",
    "    'Washington, DC': ['202'],\n",
    "    'San Francisco, CA': ['415', '628'],\n",
    "    'Boston, MA': ['617', '508'],\n",
    "    'Philadelphia, PA': ['215', '267'],\n",
    "    'Seattle, WA': ['206']\n",
    "}\n",
    "\n",
    "# Function to get the city based on the area code\n",
    "def get_city(phone_number):\n",
    "    area_code = phone_number[:3]\n",
    "    for city, codes in area_code_mapping.items():\n",
    "        if area_code in codes:\n",
    "            return city\n",
    "    return 'Unknown'\n",
    "\n",
    "# Apply the function to get city\n",
    "df['city'] = df['phone_numbers'].apply(get_city)\n",
    "\n",
    "# Display the results\n",
    "print(df)"
   ]
  },
  {
   "cell_type": "code",
   "execution_count": 7,
   "id": "db86cf0d-fb74-4418-b33e-d905927c81fa",
   "metadata": {},
   "outputs": [
    {
     "data": {
      "text/html": [
       "<div>\n",
       "<style scoped>\n",
       "    .dataframe tbody tr th:only-of-type {\n",
       "        vertical-align: middle;\n",
       "    }\n",
       "\n",
       "    .dataframe tbody tr th {\n",
       "        vertical-align: top;\n",
       "    }\n",
       "\n",
       "    .dataframe thead th {\n",
       "        text-align: right;\n",
       "    }\n",
       "</style>\n",
       "<table border=\"1\" class=\"dataframe\">\n",
       "  <thead>\n",
       "    <tr style=\"text-align: right;\">\n",
       "      <th></th>\n",
       "      <th>phone_numbers</th>\n",
       "      <th>city</th>\n",
       "    </tr>\n",
       "  </thead>\n",
       "  <tbody>\n",
       "    <tr>\n",
       "      <th>0</th>\n",
       "      <td>7609634539</td>\n",
       "      <td>Unknown</td>\n",
       "    </tr>\n",
       "    <tr>\n",
       "      <th>1</th>\n",
       "      <td>4794662178</td>\n",
       "      <td>Unknown</td>\n",
       "    </tr>\n",
       "    <tr>\n",
       "      <th>2</th>\n",
       "      <td>6267570026</td>\n",
       "      <td>Unknown</td>\n",
       "    </tr>\n",
       "    <tr>\n",
       "      <th>3</th>\n",
       "      <td>4252321125</td>\n",
       "      <td>Unknown</td>\n",
       "    </tr>\n",
       "    <tr>\n",
       "      <th>4</th>\n",
       "      <td>7077408246</td>\n",
       "      <td>Unknown</td>\n",
       "    </tr>\n",
       "  </tbody>\n",
       "</table>\n",
       "</div>"
      ],
      "text/plain": [
       "  phone_numbers     city\n",
       "0    7609634539  Unknown\n",
       "1    4794662178  Unknown\n",
       "2    6267570026  Unknown\n",
       "3    4252321125  Unknown\n",
       "4    7077408246  Unknown"
      ]
     },
     "execution_count": 7,
     "metadata": {},
     "output_type": "execute_result"
    }
   ],
   "source": [
    "df.head()"
   ]
  },
  {
   "cell_type": "code",
   "execution_count": 8,
   "id": "823b4a3a-7e01-4fed-ac14-f5aef8328241",
   "metadata": {},
   "outputs": [
    {
     "data": {
      "text/plain": [
       "<Axes: xlabel='city'>"
      ]
     },
     "execution_count": 8,
     "metadata": {},
     "output_type": "execute_result"
    },
    {
     "data": {
      "image/png": "[encoded data removed]",
      "text/plain": [
       "<Figure size 640x480 with 1 Axes>"
      ]
     },
     "metadata": {},
     "output_type": "display_data"
    }
   ],
   "source": [
    "import seaborn as sns\n",
    "df['city'].value_counts().plot(kind='bar')"
   ]
  },
  {
   "cell_type": "code",
   "execution_count": 9,
   "id": "f7e350c1-6cfc-468a-ba5f-32d41b661ce7",
   "metadata": {},
   "outputs": [
    {
     "name": "stdout",
     "output_type": "stream",
     "text": [
      "       phone_numbers             city phone_type\n",
      "0         7609634539          Unknown    unknown\n",
      "1         4794662178          Unknown    unknown\n",
      "2         6267570026          Unknown    unknown\n",
      "3         4252321125          Unknown    unknown\n",
      "4         7077408246          Unknown    unknown\n",
      "...              ...              ...        ...\n",
      "199995    7868724692        Miami, FL     mobile\n",
      "199996    3103843629  Los Angeles, CA     mobile\n",
      "199997    2066653308      Seattle, WA   landline\n",
      "199998    7609371266          Unknown    unknown\n",
      "199999    9042198520          Unknown    unknown\n",
      "\n",
      "[200000 rows x 3 columns]\n"
     ]
    }
   ],
   "source": [
    "\n",
    "# Hypothetical mapping of carrier prefixes to phone type\n",
    "carrier_prefixes = {\n",
    "    '213': 'mobile', '323': 'landline', '661': 'landline', '310': 'mobile', '424': 'mobile',\n",
    "    '773': 'mobile', '312': 'landline', '872': 'mobile',\n",
    "    '917': 'mobile', '212': 'landline', '718': 'landline', '347': 'mobile', '929': 'mobile',\n",
    "    '305': 'mobile', '786': 'mobile',\n",
    "    '313': 'landline',\n",
    "    '214': 'landline', '469': 'mobile', '972': 'mobile',\n",
    "    '202': 'landline',\n",
    "    '415': 'landline', '628': 'mobile',\n",
    "    '617': 'landline', '508': 'landline',\n",
    "    '215': 'landline', '267': 'mobile',\n",
    "    '206': 'landline'\n",
    "}\n",
    "\n",
    "# Function to get phone type based on the carrier prefix\n",
    "def get_phone_type(phone_number):\n",
    "    prefix = phone_number[:3]\n",
    "    return carrier_prefixes.get(prefix, 'unknown')\n",
    "\n",
    "# Apply the function to get phone type\n",
    "df['phone_type'] = df['phone_numbers'].apply(get_phone_type)\n",
    "\n",
    "# Display the results\n",
    "print(df)"
   ]
  },
  {
   "cell_type": "code",
   "execution_count": 10,
   "id": "8043a16d-d476-49e7-b228-bc61dbf7f783",
   "metadata": {},
   "outputs": [
    {
     "data": {
      "text/plain": [
       "<Axes: xlabel='phone_type'>"
      ]
     },
     "execution_count": 10,
     "metadata": {},
     "output_type": "execute_result"
    },
    {
     "data": {
      "image/png": "[encoded data removed]",
      "text/plain": [
       "<Figure size 640x480 with 1 Axes>"
      ]
     },
     "metadata": {},
     "output_type": "display_data"
    }
   ],
   "source": [
    "df['phone_type'].value_counts().plot(kind='bar')"
   ]
  },
  {
   "cell_type": "code",
   "execution_count": 11,
   "id": "fc616873-e6fc-4120-aaa7-5c33916b39de",
   "metadata": {},
   "outputs": [],
   "source": [
    "df.to_csv('phone_numbers_information.csv', index=False)"
   ]
  },
  {
   "cell_type": "code",
   "execution_count": 12,
   "id": "a5453d44-c256-4f28-aa90-872aa5773d05",
   "metadata": {},
   "outputs": [
    {
     "ename": "NameError",
     "evalue": "name 'ihbiuahds' is not defined",
     "output_type": "error",
     "traceback": [
      "\u001b[0;31m---------------------------------------------------------------------------\u001b[0m",
      "\u001b[0;31mNameError\u001b[0m                                 Traceback (most recent call last)",
      "Cell \u001b[0;32mIn[12], line 1\u001b[0m\n\u001b[0;32m----> 1\u001b[0m ihbiuahds\n\u001b[1;32m      2\u001b[0m \u001b[38;5;66;03m# Convert phone numbers to strings\u001b[39;00m\n\u001b[1;32m      3\u001b[0m df[\u001b[38;5;124m'\u001b[39m\u001b[38;5;124mphone_numbers\u001b[39m\u001b[38;5;124m'\u001b[39m] \u001b[38;5;241m=\u001b[39m df[\u001b[38;5;124m'\u001b[39m\u001b[38;5;124mphone_numbers\u001b[39m\u001b[38;5;124m'\u001b[39m]\u001b[38;5;241m.\u001b[39mastype(\u001b[38;5;28mstr\u001b[39m)\n",
      "\u001b[0;31mNameError\u001b[0m: name 'ihbiuahds' is not defined"
     ]
    }
   ],
   "source": [
    "# Convert phone numbers to strings\n",
    "df['phone_numbers'] = df['phone_numbers'].astype(str)\n",
    "\n",
    "# Hypothetical mapping of carrier prefixes to phone type\n",
    "carrier_prefixes = {\n",
    "    '213': 'mobile', '323': 'landline', '661': 'landline', '310': 'mobile', '424': 'mobile',\n",
    "    '773': 'mobile', '312': 'landline', '872': 'mobile',\n",
    "    '917': 'mobile', '212': 'landline', '718': 'landline', '347': 'mobile', '929': 'mobile',\n",
    "    '305': 'mobile', '786': 'mobile',\n",
    "    '313': 'landline',\n",
    "    '214': 'landline', '469': 'mobile', '972': 'mobile',\n",
    "    '202': 'landline',\n",
    "    '415': 'landline', '628': 'mobile',\n",
    "    '617': 'landline', '508': 'landline',\n",
    "    '215': 'landline', '267': 'mobile',\n",
    "    '206': 'landline'\n",
    "}\n",
    "\n",
    "# Function to get phone type based on the carrier prefix\n",
    "def get_phone_type(phone_number):\n",
    "    prefix = phone_number[:3]\n",
    "    return carrier_prefixes.get(prefix, 'unknown')\n",
    "\n",
    "# Apply the function to get phone type\n",
    "df['phone_type'] = df['phone_numbers'].apply(get_phone_type)\n",
    "\n",
    "# Create new DataFrame with separate columns for landline and mobile numbers\n",
    "df_landline = df[df['phone_type'] == 'landline'][['phone_numbers']].rename(columns={'phone_numbers': 'landline_numbers'})\n",
    "df_mobile = df[df['phone_type'] == 'mobile'][['phone_numbers']].rename(columns={'phone_numbers': 'mobile_numbers'})\n",
    "\n",
    "# Merge the two DataFrames, filling missing values with empty strings\n",
    "df_combined = pd.concat([df_landline.reset_index(drop=True), df_mobile.reset_index(drop=True)], axis=1).fillna('')\n",
    "\n",
    "# Save to CSV file\n",
    "df_combined.to_csv('phone_numbers_classified.csv', index=False)\n",
    "\n",
    "# Display the results\n",
    "print(df_combined)\n"
   ]
  }
 ],
 "metadata": {
  "kernelspec": {
   "display_name": "Python 3 (ipykernel)",
   "language": "python",
   "name": "python3"
  },
  "language_info": {
   "codemirror_mode": {
    "name": "ipython",
    "version": 3
   },
   "file_extension": ".py",
   "mimetype": "text/x-python",
   "name": "python",
   "nbconvert_exporter": "python",
   "pygments_lexer": "ipython3",
   "version": "3.11.5"
  }
 },
 "nbformat": 4,
 "nbformat_minor": 5
}
